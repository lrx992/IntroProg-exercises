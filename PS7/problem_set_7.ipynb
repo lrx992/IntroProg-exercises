{
 "cells": [
  {
   "cell_type": "markdown",
   "metadata": {},
   "source": [
    "# Problem set 7: Solving the consumer problem with income risk"
   ]
  },
  {
   "cell_type": "code",
   "execution_count": 19,
   "metadata": {},
   "outputs": [],
   "source": [
    "import numpy as np\n",
    "import scipy as sp\n",
    "from scipy import linalg\n",
    "from scipy import optimize\n",
    "from scipy import interpolate\n",
    "import sympy as sm\n",
    "\n",
    "%matplotlib inline\n",
    "import matplotlib.pyplot as plt\n",
    "plt.style.use('seaborn-whitegrid')\n",
    "from matplotlib import cm\n",
    "from mpl_toolkits.mplot3d import Axes3D"
   ]
  },
  {
   "cell_type": "markdown",
   "metadata": {},
   "source": [
    "# Tasks\n",
    "\n",
    "Solving the consumer problem is the **primary task** in this exercise set. You should spend most of the time you have on testing that you understand the different optimizers (problem I) and on solving the intertemporal consumption model (problem III). If for instance you are stuck in plotting, then skip ahead.   "
   ]
  },
  {
   "cell_type": "markdown",
   "metadata": {},
   "source": [
    "## Optimization problem I"
   ]
  },
  {
   "cell_type": "markdown",
   "metadata": {},
   "source": [
    "Consider the function"
   ]
  },
  {
   "cell_type": "markdown",
   "metadata": {},
   "source": [
    "$$ \n",
    "f(\\boldsymbol{x}) = f(x_1,x_2) = (x_1^2 - x_1x_2 + x_2^2)^2\n",
    "$$"
   ]
  },
  {
   "cell_type": "markdown",
   "metadata": {},
   "source": [
    "Define it in **sympy** by:"
   ]
  },
  {
   "cell_type": "code",
   "execution_count": 20,
   "metadata": {},
   "outputs": [],
   "source": [
    "x1 = sm.symbols('x_1')\n",
    "x2 = sm.symbols('x_2')\n",
    "f = (x1**2 - x1*x2 + x2**2)**2"
   ]
  },
  {
   "cell_type": "markdown",
   "metadata": {},
   "source": [
    "The **Jacobian** is"
   ]
  },
  {
   "cell_type": "code",
   "execution_count": 21,
   "metadata": {},
   "outputs": [
    {
     "data": {
      "text/latex": [
       "$\\displaystyle \\left[\\begin{matrix}\\left(4 x_{1} - 2 x_{2}\\right) \\left(x_{1}^{2} - x_{1} x_{2} + x_{2}^{2}\\right)\\\\\\left(- 2 x_{1} + 4 x_{2}\\right) \\left(x_{1}^{2} - x_{1} x_{2} + x_{2}^{2}\\right)\\end{matrix}\\right]$"
      ],
      "text/plain": [
       "Matrix([\n",
       "[ (4*x_1 - 2*x_2)*(x_1**2 - x_1*x_2 + x_2**2)],\n",
       "[(-2*x_1 + 4*x_2)*(x_1**2 - x_1*x_2 + x_2**2)]])"
      ]
     },
     "execution_count": 21,
     "metadata": {},
     "output_type": "execute_result"
    }
   ],
   "source": [
    "f1 = sm.diff(f,x1)\n",
    "f2 = sm.diff(f,x2)\n",
    "sm.Matrix([f1,f2])"
   ]
  },
  {
   "cell_type": "markdown",
   "metadata": {},
   "source": [
    "The **Hessian**  is"
   ]
  },
  {
   "cell_type": "code",
   "execution_count": 22,
   "metadata": {},
   "outputs": [
    {
     "data": {
      "text/latex": [
       "$\\displaystyle \\left[\\begin{matrix}2 \\cdot \\left(2 x_{1}^{2} - 2 x_{1} x_{2} + 2 x_{2}^{2} + \\left(2 x_{1} - x_{2}\\right)^{2}\\right) & 2 \\left(- x_{1}^{2} + x_{1} x_{2} - x_{2}^{2} - \\left(x_{1} - 2 x_{2}\\right) \\left(2 x_{1} - x_{2}\\right)\\right)\\\\2 \\left(- x_{1}^{2} + x_{1} x_{2} - x_{2}^{2} - \\left(x_{1} - 2 x_{2}\\right) \\left(2 x_{1} - x_{2}\\right)\\right) & 2 \\cdot \\left(2 x_{1}^{2} - 2 x_{1} x_{2} + 2 x_{2}^{2} + \\left(x_{1} - 2 x_{2}\\right)^{2}\\right)\\end{matrix}\\right]$"
      ],
      "text/plain": [
       "Matrix([\n",
       "[      2*(2*x_1**2 - 2*x_1*x_2 + 2*x_2**2 + (2*x_1 - x_2)**2), 2*(-x_1**2 + x_1*x_2 - x_2**2 - (x_1 - 2*x_2)*(2*x_1 - x_2))],\n",
       "[2*(-x_1**2 + x_1*x_2 - x_2**2 - (x_1 - 2*x_2)*(2*x_1 - x_2)),       2*(2*x_1**2 - 2*x_1*x_2 + 2*x_2**2 + (x_1 - 2*x_2)**2)]])"
      ]
     },
     "execution_count": 22,
     "metadata": {},
     "output_type": "execute_result"
    }
   ],
   "source": [
    "f11 = sm.diff(f,x1,x1)\n",
    "f12 = sm.diff(f,x1,x2)\n",
    "f21 = sm.diff(f,x2,x1)\n",
    "f22 = sm.diff(f,x2,x2)\n",
    "sm.Matrix([[f11,f12],[f21,f22]])"
   ]
  },
  {
   "cell_type": "markdown",
   "metadata": {},
   "source": [
    "**Question A:** Lambdify $f(x_1,x_2)$ and use it to create: \n",
    "\n",
    "$(i)$ a 3D surfaceplot looking like this:\n",
    "\n",
    "<img src=\"surfaceplot.png\" \n",
    "     width=\"400\" \n",
    "     height=\"500\" />"
   ]
  },
  {
   "cell_type": "markdown",
   "metadata": {},
   "source": [
    "$(ii)$ a contourplot looking like: \n",
    "\n",
    "<img src=\"contourplot.png\" \n",
    "     width=\"400\" \n",
    "     height=\"500\" />"
   ]
  },
  {
   "cell_type": "code",
   "execution_count": 23,
   "metadata": {},
   "outputs": [],
   "source": [
    "_f = sm.lambdify((x1,x2),f)\n",
    "\n",
    "# write your code here\n",
    "# Hint: use a np.meshgrid"
   ]
  },
  {
   "cell_type": "markdown",
   "metadata": {},
   "source": [
    "**Answer:** A1.py and A2.py"
   ]
  },
  {
   "cell_type": "markdown",
   "metadata": {},
   "source": [
    "**Question B:** Construct python functions for the jacobian and the hessian."
   ]
  },
  {
   "cell_type": "code",
   "execution_count": 24,
   "metadata": {},
   "outputs": [],
   "source": [
    "f_python = lambda x: _f(x[0],x[1])\n",
    "\n",
    "# write your code here"
   ]
  },
  {
   "cell_type": "markdown",
   "metadata": {},
   "source": [
    "**Answer:** A3.py"
   ]
  },
  {
   "cell_type": "markdown",
   "metadata": {},
   "source": [
    "**Question C:** Minimize $f(x_1,x_2)$ using respectively\n",
    "\n",
    "1. Nelder-Mead,\n",
    "2. BFGS without analytical jacobian,\n",
    "3. BFGS with analytical jacobian, and\n",
    "4. Newton-CG with analytical jacobian and hessian\n",
    "\n",
    "Compare the results and discuss which optimizer you prefer.\n",
    "\n",
    "**Optional:** If you wish, you can use the functions defined in the hidden cells below to also track how the optimizers converges to the solution."
   ]
  },
  {
   "cell_type": "code",
   "execution_count": 25,
   "metadata": {
    "jupyter": {
     "source_hidden": true
    },
    "tags": []
   },
   "outputs": [],
   "source": [
    "def collect(x):\n",
    "    \n",
    "    # globals used to keep track across iterations\n",
    "    global evals # set evals = 0 before calling optimizer\n",
    "    global x0\n",
    "    global x1s\n",
    "    global x2s\n",
    "    global fs\n",
    "    \n",
    "    # a. initialize list\n",
    "    if evals == 0:\n",
    "        x1s = [x0[0]] \n",
    "        x2s = [x0[1]]\n",
    "        fs = [f_python(x0)]\n",
    "        \n",
    "    # b. append trial values\n",
    "    x1s.append(x[0])\n",
    "    x2s.append(x[1])\n",
    "    fs.append(f_python(x))\n",
    "    \n",
    "    # c. increment number of evaluations\n",
    "    evals += 1"
   ]
  },
  {
   "cell_type": "code",
   "execution_count": 26,
   "metadata": {
    "jupyter": {
     "source_hidden": true
    },
    "tags": []
   },
   "outputs": [],
   "source": [
    "def contour():\n",
    "    \n",
    "    global evals\n",
    "    global x1s\n",
    "    global x2s\n",
    "    global fs\n",
    "    \n",
    "    # a. contour plot\n",
    "    fig = plt.figure(figsize=(10,4))\n",
    "    ax = fig.add_subplot(1,2,1)\n",
    "    levels = np.sort([j*10**(-i) for i in [-1,0,1,2,3,4] for j in [0.5,1,1.5]])\n",
    "    cs = ax.contour(x1_grid,x2_grid,f_grid,levels=levels,cmap=cm.jet)\n",
    "    fig.colorbar(cs)\n",
    "    ax.plot(x1s,x2s,'-o',ms=4,color='black')\n",
    "    ax.set_xlabel('$x_1$')\n",
    "    ax.set_ylabel('$x_2$')\n",
    "    \n",
    "    # b. function value\n",
    "    ax = fig.add_subplot(1,2,2)\n",
    "    ax.plot(np.arange(evals+1),fs,'-o',ms=4,color='black')\n",
    "    ax.set_xlabel('iteration')\n",
    "    ax.set_ylabel('function value')"
   ]
  },
  {
   "cell_type": "code",
   "execution_count": 27,
   "metadata": {},
   "outputs": [],
   "source": [
    "x0 = [-2,-1] # suggested initial guess\n",
    "\n",
    "# write your code here"
   ]
  },
  {
   "cell_type": "markdown",
   "metadata": {},
   "source": [
    "**Answer:** A4.py, A5.py, A6.py, A7.py"
   ]
  },
  {
   "cell_type": "markdown",
   "metadata": {},
   "source": [
    "## Optimization problem II"
   ]
  },
  {
   "cell_type": "markdown",
   "metadata": {},
   "source": [
    "Consider the function"
   ]
  },
  {
   "cell_type": "markdown",
   "metadata": {},
   "source": [
    "$$\n",
    "f(x_1,x_2) = (4-2.1x_1^2 + \\frac{x_1^4}{3})x_1^2 + x_1x_2 + (4x_2^2 - 4)x_2^2)\n",
    "$$"
   ]
  },
  {
   "cell_type": "markdown",
   "metadata": {},
   "source": [
    "Define it in **sympy** by:"
   ]
  },
  {
   "cell_type": "code",
   "execution_count": 28,
   "metadata": {},
   "outputs": [
    {
     "data": {
      "text/latex": [
       "$\\displaystyle x_{1}^{2} \\left(\\frac{x_{1}^{4}}{3} - 2.1 x_{1}^{2} + 4\\right) + x_{1} x_{2} + x_{2}^{2} \\cdot \\left(4 x_{2}^{2} - 4\\right)$"
      ],
      "text/plain": [
       "x_1**2*(x_1**4/3 - 2.1*x_1**2 + 4) + x_1*x_2 + x_2**2*(4*x_2**2 - 4)"
      ]
     },
     "execution_count": 28,
     "metadata": {},
     "output_type": "execute_result"
    }
   ],
   "source": [
    "x1 = sm.symbols('x_1')\n",
    "x2 = sm.symbols('x_2')\n",
    "f = (4-2.1*x1**2 + (x1**4)/3)*x1**2 + x1*x2 + (4*x2**2 - 4)*x2**2\n",
    "_f = sm.lambdify((x1,x2),f)\n",
    "f"
   ]
  },
  {
   "cell_type": "markdown",
   "metadata": {},
   "source": [
    "Create **3D plot**:"
   ]
  },
  {
   "cell_type": "code",
   "execution_count": 29,
   "metadata": {
    "tags": []
   },
   "outputs": [
    {
     "data": {
      "image/png": "[encoded data removed]",
      "text/plain": [
       "<Figure size 640x480 with 2 Axes>"
      ]
     },
     "metadata": {},
     "output_type": "display_data"
    }
   ],
   "source": [
    "# a. grids\n",
    "x1_vec = np.linspace(-2,2,500)\n",
    "x2_vec = np.linspace(-1,1,500)\n",
    "x1_grid,x2_grid = np.meshgrid(x1_vec,x2_vec,indexing='ij')\n",
    "f_grid = _f(x1_grid,x2_grid)\n",
    "\n",
    "# b. main\n",
    "fig = plt.figure()\n",
    "ax = fig.add_subplot(1,1,1,projection='3d')\n",
    "cs = ax.plot_surface(x1_grid,x2_grid,f_grid,cmap=cm.jet)\n",
    "\n",
    "# c. add labels\n",
    "ax.set_xlabel('$x_1$')\n",
    "ax.set_ylabel('$x_2$')\n",
    "ax.set_zlabel('$f$')\n",
    "\n",
    "# d. invert xaxis\n",
    "ax.invert_xaxis()\n",
    "\n",
    "# e. remove background\n",
    "ax.xaxis.pane.fill = False\n",
    "ax.yaxis.pane.fill = False\n",
    "ax.zaxis.pane.fill = False\n",
    "\n",
    "# f. add colorbar\n",
    "fig.colorbar(cs);"
   ]
  },
  {
   "cell_type": "markdown",
   "metadata": {},
   "source": [
    "**Question A:** Find the minimum of the function starting from each of the suggested initial values below. Print the first 20 solutions, and all solutions aftwards, which is the best yet to be found. Save the solutions and associated function values in `xs` and `fs`."
   ]
  },
  {
   "cell_type": "code",
   "execution_count": 30,
   "metadata": {},
   "outputs": [],
   "source": [
    "# a. python function for f\n",
    "f_python = lambda x: _f(x[0],x[1])\n",
    "\n",
    "# b. initial guesses\n",
    "np.random.seed(1986)\n",
    "K = 1000\n",
    "x0s = np.empty((K,2))\n",
    "x0s[:,0] = -2 + 4*np.random.uniform(size=K)\n",
    "x0s[:,1] = -1 + 2*np.random.uniform(size=K)\n",
    "\n",
    "# c. solutions and associated values\n",
    "xs = np.empty((K,2))\n",
    "fs = np.empty(K)\n",
    "\n",
    "# write your code here"
   ]
  },
  {
   "cell_type": "markdown",
   "metadata": {},
   "source": [
    "**Answer:** A8.py"
   ]
  },
  {
   "cell_type": "markdown",
   "metadata": {},
   "source": [
    "**Question B:** Create a 3D scatter plot of where the optimizer converges, and color the dots by the associated function values."
   ]
  },
  {
   "cell_type": "code",
   "execution_count": 31,
   "metadata": {},
   "outputs": [],
   "source": [
    "# write your code here"
   ]
  },
  {
   "cell_type": "markdown",
   "metadata": {},
   "source": [
    "**Answer:** A9.py"
   ]
  },
  {
   "cell_type": "markdown",
   "metadata": {},
   "source": [
    "**Question C:** Plot the function values at the solutions as a function of the starting values."
   ]
  },
  {
   "cell_type": "code",
   "execution_count": 32,
   "metadata": {},
   "outputs": [],
   "source": [
    "# write your code here"
   ]
  },
  {
   "cell_type": "markdown",
   "metadata": {},
   "source": [
    "**Answer:** A10.py"
   ]
  },
  {
   "cell_type": "markdown",
   "metadata": {},
   "source": [
    "# Problem: Solve the consumer problem with income risk I"
   ]
  },
  {
   "cell_type": "markdown",
   "metadata": {},
   "source": [
    "Define the following **variables** and **parameters**:\n",
    "\n",
    "* $m_t$ is cash-on-hand in period $t$\n",
    "* $c_t$ is consumption in period $t$\n",
    "* $y_t$ is income in period $t$\n",
    "* $\\Delta \\in (0,1)$ is income risk\n",
    "* $r$ is the interest rate\n",
    "* $\\beta > 0$, $\\rho > 1$, $\\nu > 0 $, $\\kappa > 0$, $\\xi > 0$ are utility parameters"
   ]
  },
  {
   "cell_type": "markdown",
   "metadata": {},
   "source": [
    "In the **second period** the household solves:\n",
    "\n",
    "$$\n",
    "\\begin{aligned}\n",
    "v_{2}(m_{2}) &= \\max_{c_{2}}\\frac{c_{2}^{1-\\rho}}{1-\\rho}+\\nu\\frac{(m_{2}-c_{2}+\\kappa)^{1-\\rho}}{1-\\rho} \\\\\n",
    " \\text{s.t.} \\\\\n",
    "c_{2} & \\in [0,m_{2}]\n",
    "\\end{aligned}\n",
    "$$"
   ]
  },
  {
   "cell_type": "markdown",
   "metadata": {},
   "source": [
    "In the **first period** the household solves:\n",
    "\n",
    "$$\n",
    "\\begin{aligned}\n",
    "v_{1}(m_{1}) & = \n",
    "\\max_{c_{1}}\\frac{c_{1}^{1-\\rho}}{1-\\rho}+\\beta\\mathbb{E}_{1}\\left[v_2(m_2)\\right] \\\\\n",
    "\\text{s.t.} \\\\\n",
    "m_2 &= (1+r)(m_{1}-c_{1})+y_{2} \\\\\n",
    "y_{2} &= \\begin{cases}\n",
    "1-\\Delta & \\text{with prob. }0.5\\\\\n",
    "1+\\Delta & \\text{with prob. }0.5 \n",
    "\\end{cases}\\\\\n",
    "c_{1} & \\in [0,m_{1}]\\\\\n",
    "\\end{aligned}\n",
    "$$"
   ]
  },
  {
   "cell_type": "markdown",
   "metadata": {},
   "source": [
    "The **basic functions** are:"
   ]
  },
  {
   "cell_type": "code",
   "execution_count": 33,
   "metadata": {},
   "outputs": [],
   "source": [
    "def utility(c,rho):\n",
    "    return c**(1-rho)/(1-rho)\n",
    "\n",
    "def bequest(m,c,nu,kappa,rho):\n",
    "    return nu*(m-c+kappa)**(1-rho)/(1-rho)\n",
    "\n",
    "def v2(c2,m2,rho,nu,kappa):\n",
    "    return utility(c2,rho) + bequest(m2,c2,nu,kappa,rho)\n",
    "\n",
    "def v1(c1,m1,rho,beta,r,Delta,v2_interp):\n",
    "    \n",
    "    # a. v2 value, if low income\n",
    "    m2_low = (1+r)*(m1-c1) + 1-Delta\n",
    "    v2_low = v2_interp([m2_low])[0]\n",
    "    \n",
    "    # b. v2 value, if high income\n",
    "    m2_high = (1+r)*(m1-c1) + 1+Delta\n",
    "    v2_high = v2_interp([m2_high])[0]\n",
    "    \n",
    "    # c. expected v2 value\n",
    "    v2 = 0.5*v2_low + 0.5*v2_high\n",
    "    \n",
    "    # d. total value\n",
    "    return utility(c1,rho) + beta*v2"
   ]
  },
  {
   "cell_type": "markdown",
   "metadata": {},
   "source": [
    "The **solution functions** are:"
   ]
  },
  {
   "cell_type": "code",
   "execution_count": 34,
   "metadata": {},
   "outputs": [],
   "source": [
    "def solve_period_2(rho,nu,kappa,Delta):\n",
    "\n",
    "    # a. grids\n",
    "    m2_vec = np.linspace(1e-8,5,500)\n",
    "    v2_vec = np.empty(500)\n",
    "    c2_vec = np.empty(500)\n",
    "\n",
    "    # b. solve for each m2 in grid\n",
    "    for i,m2 in enumerate(m2_vec):\n",
    "\n",
    "        # i. objective\n",
    "        obj = lambda x: -v2(x[0],m2,rho,nu,kappa)\n",
    "\n",
    "        # ii. initial value (consume half)\n",
    "        x0 = m2/2\n",
    "\n",
    "        # iii. optimizer\n",
    "        result = optimize.minimize(obj,[x0],method='L-BFGS-B',bounds=((1e-12,m2),))\n",
    "\n",
    "        # iv. save\n",
    "        v2_vec[i] = -result.fun\n",
    "        c2_vec[i] = result.x[0]\n",
    "        \n",
    "    return m2_vec,v2_vec,c2_vec\n",
    "\n",
    "def solve_period_1(rho,beta,r,Delta,v1,v2_interp):\n",
    "\n",
    "    # a. grids\n",
    "    m1_vec = np.linspace(1e-8,4,100)\n",
    "    v1_vec = np.empty(100)\n",
    "    c1_vec = np.empty(100)\n",
    "    \n",
    "    # b. solve for each m1 in grid\n",
    "    for i,m1 in enumerate(m1_vec):\n",
    "        \n",
    "        # i. objective\n",
    "        obj = lambda x: -v1(x[0],m1,rho,beta,r,Delta,v2_interp)\n",
    "        \n",
    "        # ii. initial guess (consume half)\n",
    "        x0 = m1/2\n",
    "        \n",
    "        # iii. optimize\n",
    "        result = optimize.minimize(obj,[x0],method='L-BFGS-B',bounds=((1e-12,m1),))\n",
    "        \n",
    "        # iv. save\n",
    "        v1_vec[i] = -result.fun\n",
    "        c1_vec[i] = result.x[0]\n",
    "     \n",
    "    return m1_vec,v1_vec,c1_vec"
   ]
  },
  {
   "cell_type": "markdown",
   "metadata": {},
   "source": [
    "**Question A:** Find optimal consumption in the first period as funcition of cash-on-hand, and plot it."
   ]
  },
  {
   "cell_type": "code",
   "execution_count": 37,
   "metadata": {},
   "outputs": [
    {
     "data": {
      "text/plain": [
       "(0.0, 2.5)"
      ]
     },
     "execution_count": 37,
     "metadata": {},
     "output_type": "execute_result"
    },
    {
     "data": {
      "image/png": "[encoded data removed]",
      "text/plain": [
       "<Figure size 640x480 with 1 Axes>"
      ]
     },
     "metadata": {},
     "output_type": "display_data"
    }
   ],
   "source": [
    "rho = 8\n",
    "kappa = 0.5\n",
    "nu = 0.1\n",
    "r = 0.04\n",
    "beta = 0.94\n",
    "Delta = 0.5\n",
    "\n",
    "# b. solve\n",
    "# write your code here\n",
    "\n",
    "def solve(rho, beta, r, Delta, nu, kappa, v1):\n",
    "\n",
    "    m2_vec, v2_vec, c2_vec = solve_period_2(rho, nu, kappa, Delta)\n",
    "\n",
    "    v2_interp = interpolate.RegularGridInterpolator((m2_vec,),v2_vec,\n",
    "                                                    bounds_error=False, fill_value=None)\n",
    "    \n",
    "    m1_vec, v1_vec, c1_vec = solve_period_1(rho, beta, r, Delta,v1,v2_interp)\n",
    "\n",
    "    return m1_vec, c1_vec\n",
    "\n",
    "m1_vec, c1_vec = solve(rho, beta, r, Delta, nu, kappa, v1)\n",
    "\n",
    "\n",
    "\n",
    "# c. plot\n",
    "fig = plt.figure()\n",
    "ax = fig.add_subplot(1,1,1)\n",
    "ax.plot(m1_vec,c1_vec)\n",
    "ax.set_xlabel('$m_1$')\n",
    "ax.set_ylabel('$c_1$')\n",
    "ax.set_title('consumption function in period 1')\n",
    "ax.set_xlim([0,4])\n",
    "ax.set_ylim([0,2.5])\n",
    "\n",
    "\n",
    "# write your code here"
   ]
  },
  {
   "cell_type": "markdown",
   "metadata": {},
   "source": [
    "**Answer:** A11.py"
   ]
  },
  {
   "cell_type": "markdown",
   "metadata": {},
   "source": [
    "**Question B:** Find optimal consumption in the first period as funcition of cash-on-hand, and plot it, assuming that\n",
    "\n",
    "$$ \n",
    "y_{2} = \\begin{cases}\n",
    "1-\\sqrt{\\Delta} & \\text{with prob. }0.1\\\\\n",
    "1-\\Delta & \\text{with prob. }0.4\\\\\n",
    "1+\\Delta & \\text{with prob. }0.4\\\\ \n",
    "1+\\sqrt{\\Delta} & \\text{with prob. }0.1\n",
    "\\end{cases}\n",
    "$$\n",
    "\n",
    "which add some low probability tail events, but does not change mean income. Give an interpretation of the change in the consumption function."
   ]
  },
  {
   "cell_type": "code",
   "execution_count": null,
   "metadata": {},
   "outputs": [],
   "source": [
    "# write your code here\n",
    "\n"
   ]
  },
  {
   "cell_type": "markdown",
   "metadata": {},
   "source": [
    "**Answer:** A12.py"
   ]
  },
  {
   "cell_type": "markdown",
   "metadata": {},
   "source": [
    "# Problem: Solve the consumer problem with income risk II"
   ]
  },
  {
   "cell_type": "markdown",
   "metadata": {},
   "source": [
    "Define the following **variables** and **parameters**:\n",
    "\n",
    "* $m_t$ is cash-on-hand in period $t$\n",
    "* $c_t$ is non-durable consumption in period $t$\n",
    "* $d_t$ is durable consumption in period $t$ (only adjustable in period 1)\n",
    "* $y_t$ is income in period $t$\n",
    "* $\\Delta \\in (0,1)$ is income risk\n",
    "* $r$ is the interest rate\n",
    "* $\\beta > 0$, $\\rho > 1$, $\\alpha \\in (0,1)$, $\\nu > 0 $, $\\kappa > 0$, $\\xi > 0$ are utility parameters"
   ]
  },
  {
   "cell_type": "markdown",
   "metadata": {},
   "source": [
    "In the **second period** the household solves:\n",
    "\n",
    "$$\n",
    "\\begin{aligned}\n",
    "v_{2}(m_{2},d_{2}) &= \\max_{c_{2}}\\frac{c_{2}^{1-\\rho}}{1-\\rho}+\\alpha\\frac{d_{2}^{1-\\rho}}{1-\\rho}+\\nu\\frac{(m_{2}+d_{2}-c_{2}+\\kappa)^{1-\\rho}}{1-\\rho} \\\\\n",
    "\\text{s.t.} \\\\\n",
    "c_{2} & \\in [0,m_{2}]\n",
    "\\end{aligned}\n",
    "$$"
   ]
  },
  {
   "cell_type": "markdown",
   "metadata": {},
   "source": [
    "In the **first period** the household solves:\n",
    "\n",
    "$$\n",
    "\\begin{aligned}\n",
    "v_{1}(m_{1}) &= \\max_{c_{1},d_{1}}\\frac{c_{1}^{1-\\rho}}{1-\\rho}+\\alpha\\frac{d_{1}^{1-\\rho}}{1-\\rho}+\\beta\\mathbb{E}_{1}\\left[v_2(m_2,d_2)\\right]\\\\&\\text{s.t.}&\\\\\n",
    "m_2 &= (1+r)(m_{1}-c_{1}-d_{1})+y_{2} \\\\\n",
    "y_{2} &= \\begin{cases}\n",
    "1-\\Delta & \\text{with prob. }0.5\\\\\n",
    "1+\\Delta & \\text{with prob. }0.5 \n",
    "\\end{cases}\\\\\n",
    "c_{1}+d_{1} & \\in [0,m_{1}]\\\\\n",
    "\\end{aligned}\n",
    "$$"
   ]
  },
  {
   "cell_type": "markdown",
   "metadata": {},
   "source": [
    "Choose **parameters**:"
   ]
  },
  {
   "cell_type": "code",
   "execution_count": null,
   "metadata": {},
   "outputs": [],
   "source": [
    "rho = 2\n",
    "alpha = 0.1\n",
    "kappa = 0.5\n",
    "nu = 0.1\n",
    "r = 0.04\n",
    "beta = 0.94\n",
    "Delta = 0.5\n",
    "\n",
    "# b. solve\n",
    "# write your code here\n",
    "\n",
    "# c. plot\n",
    "# write your code here"
   ]
  },
  {
   "cell_type": "markdown",
   "metadata": {},
   "source": [
    "The **basic functions** are:"
   ]
  },
  {
   "cell_type": "code",
   "execution_count": null,
   "metadata": {},
   "outputs": [],
   "source": [
    "def utility(c,d,alpha,rho):\n",
    "    return c**(1-rho)/(1-rho) + alpha*d**(1-rho)/(1-rho)\n",
    "\n",
    "def bequest(m,c,d,nu,kappa,rho):\n",
    "    return nu*(m+d-c+kappa)**(1-rho)/(1-rho)\n",
    "\n",
    "def v2(c2,d2,m2,alpha,rho,nu,kappa):\n",
    "    return utility(c2,d2,alpha,rho) + bequest(m2,c2,d2,nu,kappa,rho)\n",
    "\n",
    "def v1(c1,d1,m1,alpha,rho,beta,r,Delta,v2_interp):\n",
    "    \n",
    "    # a. v2 value, if low income\n",
    "    m2_low = (1+r)*(m1-c1-d1) + 1-Delta\n",
    "    v2_low = v2_interp([m2_low,d1])[0]\n",
    "    \n",
    "    # b. v2 value, if high income\n",
    "    m2_high = (1+r)*(m1-c1-d1) + 1+Delta\n",
    "    v2_high = v2_interp([m2_high,d1])[0]\n",
    "    \n",
    "    # c. expected v2 value\n",
    "    v2 = 0.5*v2_low + 0.5*v2_high\n",
    "    \n",
    "    # d. total value\n",
    "    return utility(c1,d1,alpha,rho) + beta*v2"
   ]
  },
  {
   "cell_type": "markdown",
   "metadata": {},
   "source": [
    "The **solution function for period 2** is:"
   ]
  },
  {
   "cell_type": "code",
   "execution_count": null,
   "metadata": {},
   "outputs": [],
   "source": [
    "def solve_period_2(alpha,rho,nu,kappa,Delta):\n",
    "\n",
    "    # a. grids\n",
    "    m2_vec = np.linspace(1e-8,5,200)\n",
    "    d2_vec = np.linspace(1e-6,5,100)\n",
    "    v2_grid = np.empty((200,100))\n",
    "    c2_grid = np.empty((200,100))\n",
    "\n",
    "    # b. solve for each m2 in grid\n",
    "    for i,m2 in enumerate(m2_vec):\n",
    "        for j,d2 in enumerate(d2_vec):\n",
    "\n",
    "            # i. objective\n",
    "            obj = lambda x: -v2(x[0],d2,m2,alpha,rho,nu,kappa)\n",
    "\n",
    "            # ii. initial value (consume half)\n",
    "            x0 = m2/2\n",
    "\n",
    "            # iii. optimizer\n",
    "            result = optimize.minimize(obj,[x0],method='L-BFGS-B',bounds=((1e-12,m2),))\n",
    "\n",
    "            # iv. save\n",
    "            v2_grid[i,j] = -result.fun\n",
    "            c2_grid[i,j] = result.x[0]\n",
    "        \n",
    "    return m2_vec,d2_vec,v2_grid,c2_grid"
   ]
  },
  {
   "cell_type": "markdown",
   "metadata": {},
   "source": [
    "**Question A:** Solve for consumption in period 2 and plot the consumption function."
   ]
  },
  {
   "cell_type": "code",
   "execution_count": null,
   "metadata": {},
   "outputs": [],
   "source": [
    "# write your code here"
   ]
  },
  {
   "cell_type": "markdown",
   "metadata": {},
   "source": [
    "**Answer:** A13.py"
   ]
  },
  {
   "cell_type": "markdown",
   "metadata": {},
   "source": [
    "**Question B:** Find optimal consumption and choices of durables in the first period as a function of cash-on-hand and plot it."
   ]
  },
  {
   "cell_type": "code",
   "execution_count": null,
   "metadata": {},
   "outputs": [],
   "source": [
    "# write your code here"
   ]
  },
  {
   "cell_type": "markdown",
   "metadata": {},
   "source": [
    "**Answer:** A14.py"
   ]
  },
  {
   "cell_type": "markdown",
   "metadata": {},
   "source": [
    "# Extra Problems"
   ]
  },
  {
   "cell_type": "markdown",
   "metadata": {},
   "source": [
    "**Simulate** a distribution of consumers in either of the two consumption-saving models above. See **section 6.3 in lecture 11** regarding \n",
    "how this is done."
   ]
  }
 ],
 "metadata": {
  "kernelspec": {
   "display_name": "Python 3 (ipykernel)",
   "language": "python",
   "name": "python3"
  },
  "language_info": {
   "codemirror_mode": {
    "name": "ipython",
    "version": 3
   },
   "file_extension": ".py",
   "mimetype": "text/x-python",
   "name": "python",
   "nbconvert_exporter": "python",
   "pygments_lexer": "ipython3",
   "version": "3.9.13"
  },
  "toc-autonumbering": true
 },
 "nbformat": 4,
 "nbformat_minor": 4
}
